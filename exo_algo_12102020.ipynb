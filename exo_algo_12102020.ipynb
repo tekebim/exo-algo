{
  "nbformat": 4,
  "nbformat_minor": 0,
  "metadata": {
    "colab": {
      "name": "exo-algo-12102020.ipynb",
      "provenance": [],
      "collapsed_sections": [],
      "authorship_tag": "ABX9TyP1CAzDkVfQZjVA8PstJxF0",
      "include_colab_link": true
    },
    "kernelspec": {
      "name": "python3",
      "display_name": "Python 3"
    }
  },
  "cells": [
    {
      "cell_type": "markdown",
      "metadata": {
        "id": "view-in-github",
        "colab_type": "text"
      },
      "source": [
        "<a href=\"https://colab.research.google.com/github/tekebim/exo-algo/blob/master/exo_algo_12102020.ipynb\" target=\"_parent\"><img src=\"https://colab.research.google.com/assets/colab-badge.svg\" alt=\"Open In Colab\"/></a>"
      ]
    },
    {
      "cell_type": "code",
      "metadata": {
        "id": "z20dQZoXE2LX",
        "outputId": "f9dd6157-6d02-4f74-896e-afc12e726c3a",
        "colab": {
          "base_uri": "https://localhost:8080/",
          "height": 51
        }
      },
      "source": [
        "# 2.1 La somme : Ecrire un algorithme calculant la somme des valeurs d’un tableau\n",
        "\n",
        "from random import randint\n",
        "# define the min / max for values + lenght of arrays\n",
        "min, max = -10, 10\n",
        "myArrayLenght = 10\n",
        "myArray = [randint(min,max) for _ in range(myArrayLenght)]\n",
        "sumValue = 0\n",
        "\n",
        "# loop for each value in array\n",
        "for eachVal in myArray:\n",
        "  # test if value is an integer or float\n",
        "  if(isinstance(eachVal, (int,float))):\n",
        "    # sum the value to the global sum\n",
        "    sumValue = sumValue + eachVal\n",
        "  else:\n",
        "    # display an error message for current value    \n",
        "    print('La valeur :',eachVal, ' n\\'étant pas un nombre, elle ne peut pas être additionnée aux autres éléments de la liste')\n",
        "# display the result\n",
        "print('Somme des valeurs des éléménts du tableau :', sumValue)\n",
        "print(myArray)"
      ],
      "execution_count": null,
      "outputs": [
        {
          "output_type": "stream",
          "text": [
            "Somme des valeurs des éléménts du tableau : 5\n",
            "[0, 1, -2, -8, -8, 8, -8, 7, 6, 9]\n"
          ],
          "name": "stdout"
        }
      ]
    },
    {
      "cell_type": "code",
      "metadata": {
        "id": "ixRkEq7hIhOI",
        "outputId": "b2bae615-1f03-44d1-b69f-0dba049f6b75",
        "colab": {
          "base_uri": "https://localhost:8080/",
          "height": 68
        }
      },
      "source": [
        "# 2.2 La somme - retour : Ecrire un algorithme constituant un tableau, a partir de deux tableaux de meme longueur prealablement saisis. Le nouveau tableau sera la somme des  elements des deux tableaux de depart.\n",
        "\n",
        "from random import randint\n",
        "\n",
        "# define the min / max for values + lenght of arrays\n",
        "min, max = -100, 100\n",
        "myArrayLenght = 10\n",
        "\n",
        "# build arrays with random values\n",
        "myFirstArray = [randint(min,max) for _ in range(myArrayLenght)]\n",
        "mySecondArray = [randint(min,max) for _ in range(myArrayLenght)]\n",
        "\n",
        "# create custom function to calculate the sum of each array's entries\n",
        "def entriesSum(dataArray):\n",
        "  sumValue = 0\n",
        "  for element in dataArray:\n",
        "    sumValue = sumValue + element\n",
        "  return sumValue\n",
        "\n",
        "\n",
        "# calculate the sum of first and second arrays, and place it on a third array \n",
        "myThirdArray = [entriesSum(myFirstArray) + entriesSum(mySecondArray)]\n",
        "print('Tableau 1 :', myFirstArray)\n",
        "print('Tableau 2 :', mySecondArray)\n",
        "print('Tableau 3 :',myThirdArray, '(Somme tableaux 1 et 2)')\n"
      ],
      "execution_count": null,
      "outputs": [
        {
          "output_type": "stream",
          "text": [
            "Tableau 1 : [-20, 76, -85, 43, -92, 93, 58, -34, 4, -72]\n",
            "Tableau 2 : [14, -44, -96, -27, -98, 96, -57, -38, -69, -41]\n",
            "Tableau 3 : [-389] (Somme tableaux 1 et 2)\n"
          ],
          "name": "stdout"
        }
      ]
    },
    {
      "cell_type": "code",
      "metadata": {
        "id": "li8snyHQNspi",
        "outputId": "d5d08ca6-f0fd-420e-b9fd-979fcf975a1a",
        "colab": {
          "base_uri": "https://localhost:8080/",
          "height": 34
        }
      },
      "source": [
        "# 2.3 FacProduct : Toujours a partir de deux tableaux precedemment saisis, ecrire un algorithme qui calcule le ’FacProduct’ des deux tableaux. Pour calculer le ’FacProduct’, il faut multiplier chaque element du tableau1 par chaque element du tableau2, et additionner le tout.\n",
        "\n",
        "from random import randint\n",
        "\n",
        "min, max = -100, 100\n",
        "myArrayLenght = 10\n",
        "\n",
        "# build arrays with random values\n",
        "myFirstArray = [randint(min,max) for _ in range(myArrayLenght)]\n",
        "mySecondArray = [randint(min,max) for _ in range(myArrayLenght)]\n",
        "# define start value\n",
        "facProductValue = 0\n",
        "\n",
        "# loop on primary array\n",
        "for _, primaryElement in enumerate(myFirstArray):\n",
        "  # loop on secondary array\n",
        "  for _, secondaryElement in enumerate(mySecondArray):\n",
        "    # sum the product of (primaryElement * secondaryElement)    \n",
        "    facProductValue += primaryElement * secondaryElement\n",
        "\n",
        "print('Résultat du FacProduct entre le tableau 1 et 2 :', facProductValue)"
      ],
      "execution_count": null,
      "outputs": [
        {
          "output_type": "stream",
          "text": [
            "Résultat du FacProduct entre le tableau 1 et 2 : 6426\n"
          ],
          "name": "stdout"
        }
      ]
    },
    {
      "cell_type": "code",
      "metadata": {
        "id": "7QX2A6dWVg79",
        "outputId": "4f05e112-9371-40ff-f85d-a96fe1943379",
        "colab": {
          "base_uri": "https://localhost:8080/",
          "height": 136
        }
      },
      "source": [
        "# 2.4 Le plus grand : Ecrire un algorithme permettant a l’utilisateur de saisir un nombre determine de valeurs. Le programme, une fois la saisie terminee, renvoie la plus grande valeur en precisant quelle position elle occupe dans le tableau.\n",
        "\n",
        "#from random import randint\n",
        "#min, max = -10, 10\n",
        "nbEntries = input('Saisissez le nombre d\\'entrées constituant le tableau : ')\n",
        "inputValues = []\n",
        "\n",
        "# method to test if is a number like integer or float \n",
        "def isInteger(item):\n",
        "  try:\n",
        "    int(item)\n",
        "    valid = True\n",
        "  except ValueError:\n",
        "    valid = False\n",
        "  return valid\n",
        "\n",
        "if(isInteger(nbEntries)):\n",
        "  nbEntries = int(nbEntries)\n",
        "  i = 1\n",
        "  while(i <= nbEntries):    \n",
        "    # randomly\n",
        "    # inputValues = [randint(min,max) for _ in range(int(nbEntries))]\n",
        "    labelInputTxt = ('Saisissez la valeur n°'+str(i)+': ')\n",
        "    value = input(labelInputTxt)\n",
        "    if(isInteger(value)):\n",
        "      # or via user inputs\n",
        "      inputValues.append(value)\n",
        "    else:\n",
        "      print('La valeur saisie n\\'est pas un entier')\n",
        "      break\n",
        "    i += 1\n",
        "\n",
        "  # create temporary variable\n",
        "  tmpMax = inputValues[0]\n",
        "\n",
        "  # loop on each index of array  \n",
        "  for index, element in enumerate(inputValues):\n",
        "    if element > tmpMax:\n",
        "      tmpMax = element\n",
        "      tmpIndex = index + 1\n",
        "  print('La valeur maximale dans le tableau est :',tmpMax, 'et se situe à la position :', tmpIndex, 'dans le tableau')  \n",
        "  print(inputValues)\n",
        "else:\n",
        "  print('Veuillez saisir un nombre entier pour constituer le tableau')"
      ],
      "execution_count": null,
      "outputs": [
        {
          "output_type": "stream",
          "text": [
            "Saisissez le nombre d'entrées constituant le tableau : 4\n",
            "Saisissez la valeur n°1: 1212\n",
            "Saisissez la valeur n°2: -12\n",
            "Saisissez la valeur n°3: 30\n",
            "Saisissez la valeur n°4: 12121\n",
            "La valeur maximale dans le tableau est : 30 et se situe à la position : 3 dans le tableau\n",
            "['1212', '-12', '30', '12121']\n"
          ],
          "name": "stdout"
        }
      ]
    },
    {
      "cell_type": "code",
      "metadata": {
        "id": "SbMbL6Wgz3q3"
      },
      "source": [
        "# correction 2.4 test\n",
        "\n",
        "tailleListe = int(input('taille de la liste'))\n",
        "liste = [0]*tailleListe\n",
        "for i in range(tailleListe):\n",
        "  liste[i] = int(input('valeur'))\n",
        "print(liste)\n",
        "max = liste[0]\n",
        "for i in liste:\n",
        "  if i > max :\n",
        "    max = i\n",
        "print(max)\n",
        "\n",
        "# fonction max par defaut\n"
      ],
      "execution_count": null,
      "outputs": []
    },
    {
      "cell_type": "code",
      "metadata": {
        "id": "NYwWqDrqz8NQ",
        "outputId": "a5b8360e-e16b-401b-ee79-aaf098f9ef4b",
        "colab": {
          "base_uri": "https://localhost:8080/",
          "height": 34
        }
      },
      "source": [
        "# 3 temps d'arret :\n",
        "# definir une somme - tel que \n",
        "\n",
        "\n",
        "from fractions import Fraction\n",
        "\n",
        "k = 1\n",
        "n = 1\n",
        "\n",
        "def Hn(n):\n",
        "  Hn = (sum([k])*n) + Fraction(1,k)\n",
        "  return Hn\n",
        "\n",
        "\n",
        "#while Hn(n) > n:   \n",
        "#  n += 1\n",
        "#  alpha = Hn()\n",
        "\n",
        "print(Hn(2))\n",
        "\n",
        "\n",
        "# $Hn = \\sum{k = 1}^n \\frac{1}{k}$"
      ],
      "execution_count": null,
      "outputs": [
        {
          "output_type": "stream",
          "text": [
            "3\n"
          ],
          "name": "stdout"
        }
      ]
    },
    {
      "cell_type": "code",
      "metadata": {
        "id": "sb9nWMNdDG-Z",
        "outputId": "0d614130-ab21-48be-a784-4984af7adca1",
        "colab": {
          "base_uri": "https://localhost:8080/",
          "height": 85
        }
      },
      "source": [
        "\n",
        "# Correction\n",
        "\n",
        "n = 1\n",
        "a = int(input('Reel a :'))\n",
        "H = 0\n",
        "while H < a :\n",
        "  H = 0\n",
        "  for k in range (1,n) :\n",
        "    H += 1/k\n",
        "  n +=1\n",
        "print(n)\n",
        "\n",
        "# other version\n",
        "n = 1 \n",
        "a = int(input('Reel a :'))\n",
        "H = 0\n",
        "while H < a :\n",
        "  H += 1/n\n",
        "  n += 1\n",
        "print(n)"
      ],
      "execution_count": null,
      "outputs": [
        {
          "output_type": "stream",
          "text": [
            "Reel a :11\n",
            "33619\n",
            "Reel a :11\n",
            "33618\n"
          ],
          "name": "stdout"
        }
      ]
    },
    {
      "cell_type": "markdown",
      "metadata": {
        "id": "mEvHi08CDfHT"
      },
      "source": [
        ""
      ]
    },
    {
      "cell_type": "code",
      "metadata": {
        "id": "2MFdjm5sEby7",
        "outputId": "9d1bd036-9c4b-4dd2-8c6d-453125fec354",
        "colab": {
          "base_uri": "https://localhost:8080/",
          "height": 54
        }
      },
      "source": [
        "# 3.2 equation de pell fermat\n",
        "\n",
        "x = 0\n",
        "y = 0\n",
        "i = 1\n",
        "j = 1\n",
        "arrayValue = []\n",
        "\n",
        "for i in range(101):\n",
        "  for j in range(101):\n",
        "    if((i*i)- (2*(j*j)) == 1):\n",
        "      arrayValue.append([('x',i),('y',j)])\n",
        "\n",
        "print(arrayValue)\n"
      ],
      "execution_count": null,
      "outputs": [
        {
          "output_type": "stream",
          "text": [
            "[[('x', 1), ('y', 0)], [('x', 3), ('y', 2)], [('x', 17), ('y', 12)], [('x', 99), ('y', 70)]]\n"
          ],
          "name": "stdout"
        }
      ]
    },
    {
      "cell_type": "code",
      "metadata": {
        "id": "WRlz3zf8OdBT",
        "outputId": "60086740-ef4b-475a-9d7e-f3c6961fdff2",
        "colab": {
          "base_uri": "https://localhost:8080/",
          "height": 34
        }
      },
      "source": [
        "# 3.2 equation de pell fermat\n",
        "\n",
        "x = 0\n",
        "y = 0\n",
        "i = 1\n",
        "j = 1\n",
        "arrayValue = []\n",
        "\n",
        "while i <= 100 :\n",
        "  while j <= 100 :\n",
        "    if((i*i)- (2*(j*j)) == 1):      \n",
        "      arrayValue.append([('x',i),('y',j)])\n",
        "    j += 1\n",
        "  j = 0\n",
        "  i += 1\n",
        "\n",
        "print(arrayValue)\n"
      ],
      "execution_count": null,
      "outputs": [
        {
          "output_type": "stream",
          "text": [
            "[[('x', 3), ('y', 2)], [('x', 17), ('y', 12)], [('x', 99), ('y', 70)]]\n"
          ],
          "name": "stdout"
        }
      ]
    },
    {
      "cell_type": "code",
      "metadata": {
        "id": "9oMvpN-sSnXE",
        "outputId": "8d1805e2-564f-4106-aa36-40e4af749611",
        "colab": {
          "base_uri": "https://localhost:8080/",
          "height": 34
        }
      },
      "source": [
        "x = 1\n",
        "y = 1\n",
        "s= 100\n",
        "arrayValue = []\n",
        "\n",
        "for x in range(1,s):\n",
        "  for y in range(1,s):\n",
        "    if((x*x)- (2*(y*y)) == 1):      \n",
        "      arrayValue.append([('x',x),('y',y)])\n",
        "\n",
        "print(arrayValue)"
      ],
      "execution_count": null,
      "outputs": [
        {
          "output_type": "stream",
          "text": [
            "[[('x', 3), ('y', 2)], [('x', 17), ('y', 12)], [('x', 99), ('y', 70)]]\n"
          ],
          "name": "stdout"
        }
      ]
    },
    {
      "cell_type": "code",
      "metadata": {
        "id": "qo2eJFROWAx0",
        "outputId": "72ddd12d-c4db-40e9-b06f-30ae89832101",
        "colab": {
          "base_uri": "https://localhost:8080/",
          "height": 51
        }
      },
      "source": [
        "# ax2 +bx+c=0\n",
        "\n",
        "a = 1\n",
        "b = 1\n",
        "c = 1\n",
        "x = 1\n",
        "\n",
        "equation = (a*(x*x)) + (b*x) + c\n",
        "\n",
        "discrimant = (b*b) - (4*a*c)\n",
        "\n",
        "print(equation)\n",
        "print(discrimant)"
      ],
      "execution_count": null,
      "outputs": [
        {
          "output_type": "stream",
          "text": [
            "3\n",
            "-3\n"
          ],
          "name": "stdout"
        }
      ]
    },
    {
      "cell_type": "markdown",
      "metadata": {
        "id": "WcmkrWnlp_ON"
      },
      "source": [
        "variables a, b, c, x0, x1, x2, delta\n",
        "saisir a, b, c\n",
        "delta <- b2 - 4*a*c\n",
        "si delta > 0 alors\n",
        "  x1 <- (-b-racineCarre(delta))/2*a\n",
        "  x2 <- (-b-racineCarre(delta))/2*a\n",
        "  afficher \"x1 = \".x1.\" et x2 = \".x2\n",
        "sinon\n",
        "  si delta = 0 alors\n",
        "    x0 <- (-b)/2*a\n",
        "    afficher \"x0 = \".x0\n",
        "  sinon\n",
        "    afficher \"pas de recherche\"\n",
        "  fin si\n",
        "fin si"
      ]
    },
    {
      "cell_type": "code",
      "metadata": {
        "id": "rH-oxO-Lpae4",
        "outputId": "36745f26-4c1d-4e28-c6de-40bbfb5384f0",
        "colab": {
          "base_uri": "https://localhost:8080/",
          "height": 85
        }
      },
      "source": [
        "from math import *\n",
        "a = int(input('a ='))\n",
        "b = int(input('b ='))\n",
        "c = int(input('c ='))\n",
        "\n",
        "delta = (b**2)-4*a*c\n",
        "\n",
        "if delta > 0 :\n",
        "  x1 = (-(b)-sqrt(delta))/2*a\n",
        "  x2 = (-(b)-sqrt(delta))/2*a\n",
        "  print('x1 - ',x1,' et x2 = ',x2)\n",
        "else:\n",
        "  if delta == 0 :\n",
        "    x0 = (-(b))/(2*a)\n",
        "    print('x0 =',x0 )\n",
        "  else:\n",
        "    print('pas de racine')"
      ],
      "execution_count": null,
      "outputs": [
        {
          "output_type": "stream",
          "text": [
            "a =-3\n",
            "b =-4\n",
            "c =1\n",
            "x1 -  1.9372539331937721  et x2 =  1.9372539331937721\n"
          ],
          "name": "stdout"
        }
      ]
    },
    {
      "cell_type": "code",
      "metadata": {
        "id": "jZB34lgntltK"
      },
      "source": [
        "# 3.4 ( new version )\n",
        "\n",
        "from math import *\n",
        "\n",
        "a = int(input('a ='))\n",
        "b = int(input('b ='))\n",
        "c = int(input('c ='))\n",
        "\n",
        "delta = (b*b)-4*a*c\n",
        "\n",
        "def calculDelta(a,b,c):\n",
        "  return (b*b)-4*a*c\n",
        "\n",
        "if(calculDelta(a,b,c) > 0):\n",
        "  x1 = (-(b)-sqrt(delta))/2*a\n",
        "  x2 = (-(b)-sqrt(delta))/2*a\n",
        "  print('x1 - ',x1,' et x2 = ',x2)\n",
        "else :\n",
        "  if(calculDelta(a,b,c) == 0):\n",
        "    x0 = (-(b))/(2*a)\n",
        "    print('x0 =',x0 )\n",
        "  else:\n",
        "    print('Pas de racine')\n",
        "  "
      ],
      "execution_count": null,
      "outputs": []
    },
    {
      "cell_type": "markdown",
      "metadata": {
        "id": "d5ubGyebsqxD"
      },
      "source": [
        "az²+ bz + c = 0 avec a≠0"
      ]
    },
    {
      "cell_type": "code",
      "metadata": {
        "id": "D3pd4J-rquSk",
        "outputId": "50b27378-4a8c-4d64-dea1-5c4a922e9f03",
        "colab": {
          "base_uri": "https://localhost:8080/",
          "height": 85
        }
      },
      "source": [
        "# 3.4\n",
        "\n",
        "from math import *\n",
        "\n",
        "a = int(input('a ='))\n",
        "b = int(input('b ='))\n",
        "c = int(input('c ='))\n",
        "\n",
        "delta = (b*b)-4*a*c\n",
        "\n",
        "def calculDelta(a,b,c):\n",
        "  return (b*b)-4*a*c\n",
        "\n",
        "if(calculDelta(a,b,c) > 0):\n",
        "  x1 = (-b)-sqrt(delta)*i/2*a\n",
        "  x2 = (-b)+sqrt(delta)*i/2*a\n",
        "  print('x1 - ',x1,' et x2 = ',x2)\n",
        "else :\n",
        "  if(calculDelta(a,b,c) == 0):\n",
        "    x0 = (-(b))/(2*a)\n",
        "    print('x0 =',x0 )\n",
        "  else:\n",
        "    print('Pas de racine')\n",
        "  "
      ],
      "execution_count": null,
      "outputs": [
        {
          "output_type": "stream",
          "text": [
            "a =-3\n",
            "b =-4\n",
            "c =1\n",
            "x1 -  797.7253933193772  et x2 =  -789.7253933193772\n"
          ],
          "name": "stdout"
        }
      ]
    },
    {
      "cell_type": "code",
      "metadata": {
        "id": "4DSaIaMDvJQU",
        "outputId": "a24ae293-355f-4f29-b1ef-56721d6d020d",
        "colab": {
          "base_uri": "https://localhost:8080/",
          "height": 102
        }
      },
      "source": [
        "# 3.4 correction\n",
        "from math import *\n",
        "import cmath\n",
        "\n",
        "a = int(input('a ='))\n",
        "b = int(input('b ='))\n",
        "c = int(input('c ='))\n",
        "\n",
        "delta = (b*b)-4*a*c\n",
        "racineDelta = cmath.sqrt(delta)\n",
        "# print('delta =',delta )\n",
        "\n",
        "if delta > 0:\n",
        "  x1 = ((-b)-sqrt(delta))/2*a\n",
        "  x2 = ((-b)+sqrt(delta))/2*a\n",
        "  print('x1 - ',x1,' et x2 = ',x2)\n",
        "else :\n",
        "  if(delta == 0):\n",
        "    x0 = (-(b))/(2*a)\n",
        "    print('x0 =',x0 )\n",
        "  else:\n",
        "    x1 = (-(b)-racineDelta)/2*a\n",
        "    x2 = (-(b)+racineDelta)/2*a\n",
        "    print('x1 - ',x1,'i et x2 = ',x2,'i')\n",
        "  "
      ],
      "execution_count": null,
      "outputs": [
        {
          "output_type": "stream",
          "text": [
            "a =3\n",
            "b =2\n",
            "c =10\n",
            "delta = -116\n",
            "x1 -  (-3-16.15549442140351j) i et x2 =  (-3+16.15549442140351j) i\n"
          ],
          "name": "stdout"
        }
      ]
    },
    {
      "cell_type": "markdown",
      "metadata": {
        "id": "JT6FNeWDzlUf"
      },
      "source": [
        "n! = 1 x 2 x 3 x … x n"
      ]
    },
    {
      "cell_type": "code",
      "metadata": {
        "id": "98pLswlvywnh",
        "outputId": "ac8c6ff7-e63c-4543-ea53-024675ee37d4",
        "colab": {
          "base_uri": "https://localhost:8080/",
          "height": 51
        }
      },
      "source": [
        "# 3.5 Factorielle\n",
        "# Ecrire un algorithme qui demande un nombre de d́epart, et qui calcule sa factorielle. On rappel qu’on calcul factorielle n tel que : n! = 􏰁1in i = 1×2×3×...×(n−1)×n.\n",
        "\n",
        "a = int(input('saisir une valeur :'))\n",
        "factorielle = 1\n",
        "\n",
        "for eachInteger in range(1,a):\n",
        "  factorielle = factorielle * eachInteger\n",
        "\n",
        "print(factorielle)"
      ],
      "execution_count": null,
      "outputs": [
        {
          "output_type": "stream",
          "text": [
            "saisir une valeur :5\n",
            "24\n"
          ],
          "name": "stdout"
        }
      ]
    },
    {
      "cell_type": "code",
      "metadata": {
        "id": "s09xu89s1XPG",
        "outputId": "f02263fc-faad-43e6-ed2a-5e4e6cf901f7",
        "colab": {
          "base_uri": "https://localhost:8080/",
          "height": 34
        }
      },
      "source": [
        "#def factoriel(val):\n",
        "#  result=1\n",
        "\n",
        "\n",
        "def fact(n):\n",
        "  \"\"\"fact(n): calcule la factiorielle de n (entier >= 0)\"\"\"\n",
        "  if n<2:\n",
        "    return 1\n",
        "  else:\n",
        "    return n*fact(n-1)\n",
        "\n",
        "fact(-5)"
      ],
      "execution_count": null,
      "outputs": [
        {
          "output_type": "execute_result",
          "data": {
            "text/plain": [
              "1"
            ]
          },
          "metadata": {
            "tags": []
          },
          "execution_count": 147
        }
      ]
    },
    {
      "cell_type": "code",
      "metadata": {
        "id": "YwMwLEz55Ppa",
        "outputId": "4471dd66-d14c-48bc-8029-af78e869e798",
        "colab": {
          "base_uri": "https://localhost:8080/",
          "height": 68
        }
      },
      "source": [
        "# Coefficients binomiaux\n",
        "\n",
        "n = int(input('valeur n: '))\n",
        "k = int(input('valeur k: '))\n",
        "\n",
        "def fact(n):\n",
        "  \"\"\"fact(n): calcule la factiorielle de n (entier >= 0)\"\"\"\n",
        "  if n<2:\n",
        "    return 1\n",
        "  else:\n",
        "    return n*fact(n-1)\n",
        "\n",
        "coeff = (fact(n) / (fact(k)*((fact(n-k)))))\n",
        "\n",
        "print(coeff)"
      ],
      "execution_count": null,
      "outputs": [
        {
          "output_type": "stream",
          "text": [
            "valeur n: 10\n",
            "valeur k: 5\n",
            "252.0\n"
          ],
          "name": "stdout"
        }
      ]
    },
    {
      "cell_type": "code",
      "metadata": {
        "id": "fdV2l-f2Aw15",
        "outputId": "19970d66-3513-4e0c-9d55-4eb7dfd50cf7",
        "colab": {
          "base_uri": "https://localhost:8080/",
          "height": 85
        }
      },
      "source": [
        "from math import factorial\n",
        "import scipy.special\n",
        "\n",
        "print(scipy.special.binom(10,5))\n",
        "\n",
        "n = int(input())\n",
        "k = int(input())\n",
        "\n",
        "A = factorial(n) / (factorial(k) * factorial(n - k))\n",
        "\n",
        "print(A)"
      ],
      "execution_count": null,
      "outputs": [
        {
          "output_type": "stream",
          "text": [
            "252.0\n",
            "10\n",
            "5\n",
            "252.0\n"
          ],
          "name": "stdout"
        }
      ]
    },
    {
      "cell_type": "code",
      "metadata": {
        "id": "pP_0ogxXA0mh"
      },
      "source": [
        "i"
      ],
      "execution_count": null,
      "outputs": []
    },
    {
      "cell_type": "code",
      "metadata": {
        "id": "b0bE6xUF-PZ1",
        "outputId": "7821e7a2-8428-4e4f-f851-ddab6ac05f42",
        "colab": {
          "base_uri": "https://localhost:8080/",
          "height": 187
        }
      },
      "source": [
        "# saisie de matrice\n",
        "\n",
        "import numpy as np\n",
        "\n",
        "matrixArr = []\n",
        "matrixCol = int(input('Nombre de colonnes :'))\n",
        "matrixLines = int(input('Nombre de lignes :'))\n",
        "values = 0\n",
        "\n",
        "# entries possibles\n",
        "values = matrixCol * matrixLines\n",
        "\n",
        "# for value in values\n",
        "for v in range(1, values + 1):\n",
        "  # get the user value defined\n",
        "  getVal = int(input('Saisissez la valeur : {}'.format(v)))\n",
        "  # append the value to the matrixArr\n",
        "  matrixArr = np.append(matrixArr, getVal)\n",
        "  \n",
        "\n",
        "# create the matrix\n",
        "B = matrixArr.reshape(matrixCol, matrixLines)\n",
        "\n",
        "print(B)"
      ],
      "execution_count": null,
      "outputs": [
        {
          "output_type": "stream",
          "text": [
            "Nombre de colonnes :2\n",
            "Nombre de lignes :3\n",
            "Saisissez la valeur 11\n",
            "Saisissez la valeur 223\n",
            "Saisissez la valeur 323232\n",
            "Saisissez la valeur 49\n",
            "Saisissez la valeur 5121\n",
            "Saisissez la valeur 6998\n",
            "[[1.0000e+00 2.3000e+01 2.3232e+04]\n",
            " [9.0000e+00 1.2100e+02 9.9800e+02]]\n"
          ],
          "name": "stdout"
        }
      ]
    },
    {
      "cell_type": "code",
      "metadata": {
        "id": "DaiPgqlTLZC3"
      },
      "source": [
        "# correction\n",
        "import numpy as np\n",
        "\n",
        "n = int(input('n ='))\n",
        "p = int(input('p ='))\n",
        "\n",
        "taille = int(input('Entrer la taille de la liste'))\n",
        "tableau = [0]*taille\n",
        "\n",
        "for i in range(taille):\n",
        "  tableau[i] = int(input('Entrer une valeur'))\n",
        "\n",
        "print(tableau)\n",
        "m = np.array(tableau)\n",
        "m = m.reshape(n,p)\n",
        "print(m)"
      ],
      "execution_count": null,
      "outputs": []
    },
    {
      "cell_type": "code",
      "metadata": {
        "id": "3oEz-TPqCoUm",
        "outputId": "b025c76b-bdcd-480c-ecb8-2c941352b512",
        "colab": {
          "base_uri": "https://localhost:8080/",
          "height": 283
        }
      },
      "source": [
        "m=int(input(\"col\")) # nombre de colonnes\n",
        "p=int(input(\"lignes\")) # nombre de lignes\n",
        "\n",
        "for i in range(m):\n",
        "    # parcourir les colonnes de B\n",
        "    for j in range(p):\n",
        "        # parcourir les lignes de B\n",
        "        C[i][j] = input(\"valeur:\")\n",
        "\n",
        "print (C)"
      ],
      "execution_count": null,
      "outputs": [
        {
          "output_type": "stream",
          "text": [
            "col2\n",
            "lignes3\n",
            "valeur:12\n"
          ],
          "name": "stdout"
        },
        {
          "output_type": "error",
          "ename": "IndexError",
          "evalue": "ignored",
          "traceback": [
            "\u001b[0;31m---------------------------------------------------------------------------\u001b[0m",
            "\u001b[0;31mIndexError\u001b[0m                                Traceback (most recent call last)",
            "\u001b[0;32m<ipython-input-206-17082e0d10d9>\u001b[0m in \u001b[0;36m<module>\u001b[0;34m()\u001b[0m\n\u001b[1;32m      6\u001b[0m     \u001b[0;32mfor\u001b[0m \u001b[0mj\u001b[0m \u001b[0;32min\u001b[0m \u001b[0mrange\u001b[0m\u001b[0;34m(\u001b[0m\u001b[0mp\u001b[0m\u001b[0;34m)\u001b[0m\u001b[0;34m:\u001b[0m\u001b[0;34m\u001b[0m\u001b[0;34m\u001b[0m\u001b[0m\n\u001b[1;32m      7\u001b[0m         \u001b[0;31m# parcourir les lignes de B\u001b[0m\u001b[0;34m\u001b[0m\u001b[0;34m\u001b[0m\u001b[0;34m\u001b[0m\u001b[0m\n\u001b[0;32m----> 8\u001b[0;31m         \u001b[0mC\u001b[0m\u001b[0;34m[\u001b[0m\u001b[0mi\u001b[0m\u001b[0;34m]\u001b[0m\u001b[0;34m[\u001b[0m\u001b[0mj\u001b[0m\u001b[0;34m]\u001b[0m \u001b[0;34m=\u001b[0m \u001b[0minput\u001b[0m\u001b[0;34m(\u001b[0m\u001b[0;34m\"valeur:\"\u001b[0m\u001b[0;34m)\u001b[0m\u001b[0;34m\u001b[0m\u001b[0;34m\u001b[0m\u001b[0m\n\u001b[0m\u001b[1;32m      9\u001b[0m \u001b[0;34m\u001b[0m\u001b[0m\n\u001b[1;32m     10\u001b[0m \u001b[0mprint\u001b[0m \u001b[0;34m(\u001b[0m\u001b[0mC\u001b[0m\u001b[0;34m)\u001b[0m\u001b[0;34m\u001b[0m\u001b[0;34m\u001b[0m\u001b[0m\n",
            "\u001b[0;31mIndexError\u001b[0m: list index out of range"
          ]
        }
      ]
    },
    {
      "cell_type": "code",
      "metadata": {
        "id": "cE7NM7coKv2W",
        "outputId": "fa254ba4-36f2-4f36-dd1b-9fbe5535f8d2",
        "colab": {
          "base_uri": "https://localhost:8080/",
          "height": 187
        }
      },
      "source": [
        "# multiplication matricielle\n",
        "\n",
        "import numpy as np\n",
        "\n",
        "cols = int(input('Nombre des colonnes :'))\n",
        "lines = int(input('Nombre des lignes :'))\n",
        "\n",
        "values = cols * lines\n",
        "valuesA = []\n",
        "valuesB = []\n",
        "\n",
        "for i in range(1,values + 1):\n",
        "  #valuesArray.append(int(input('Entrer une valeur {}:'.format(i))))\n",
        "  valuesA.append(i)\n",
        "\n",
        "for j in range(1, values + 1):\n",
        "  #valuesArray.append(int(input('Entrer une valeur {}:'.format(i))))\n",
        "  valuesB.append(j*2)\n",
        "\n",
        "\n",
        "def createMatrix(array, cols, lines):  \n",
        "  a = np.array(array)\n",
        "  return np.reshape(a,(lines,cols))\n",
        "\n",
        "matrixA = createMatrix(valuesA, cols, lines)\n",
        "matrixB = createMatrix(valuesB, cols, lines)\n",
        "\n",
        "print(matrixA)\n",
        "print(matrixB)\n"
      ],
      "execution_count": null,
      "outputs": [
        {
          "output_type": "stream",
          "text": [
            "Nombre des colonnes :3\n",
            "Nombre des lignes :4\n",
            "[[ 1  2  3]\n",
            " [ 4  5  6]\n",
            " [ 7  8  9]\n",
            " [10 11 12]]\n",
            "[[ 2  4  6]\n",
            " [ 8 10 12]\n",
            " [14 16 18]\n",
            " [20 22 24]]\n"
          ],
          "name": "stdout"
        }
      ]
    },
    {
      "cell_type": "code",
      "metadata": {
        "id": "fMWTqJBkT6QK"
      },
      "source": [
        "# correction multiplication matricielle \n",
        "def produitMatriciel(A, B):\n",
        "    n = len(A)\n",
        "    p = len(A[0])\n",
        "    q = len(B[0])\n",
        "    return list([sum([A[i][k]*B[k][j] for k in range(p)]) for j in range(q)] for i in range(n))\n",
        "\n",
        "\n",
        "A = [[1,2], [3,4]]\n",
        "B = [[1,2], [3,4]]\n",
        "print (produitMatriciel(A,B))\n",
        "\n",
        "#avec numpy\n",
        "import numpy as np \n",
        "\n",
        "np.dot(A,B)"
      ],
      "execution_count": null,
      "outputs": []
    }
  ]
}