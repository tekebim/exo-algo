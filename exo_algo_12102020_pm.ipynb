{
  "nbformat": 4,
  "nbformat_minor": 0,
  "metadata": {
    "colab": {
      "name": "exo-algo-12102020-pm.ipynb",
      "provenance": [],
      "collapsed_sections": [],
      "authorship_tag": "ABX9TyNAWJzXLTL1UPkBdx5VVFdA",
      "include_colab_link": true
    },
    "kernelspec": {
      "name": "python3",
      "display_name": "Python 3"
    }
  },
  "cells": [
    {
      "cell_type": "markdown",
      "metadata": {
        "id": "view-in-github",
        "colab_type": "text"
      },
      "source": [
        "<a href=\"https://colab.research.google.com/github/tekebim/exo-algo/blob/master/exo_algo_12102020_pm.ipynb\" target=\"_parent\"><img src=\"https://colab.research.google.com/assets/colab-badge.svg\" alt=\"Open In Colab\"/></a>"
      ]
    },
    {
      "cell_type": "code",
      "metadata": {
        "id": "NYwWqDrqz8NQ",
        "outputId": "a5b8360e-e16b-401b-ee79-aaf098f9ef4b",
        "colab": {
          "base_uri": "https://localhost:8080/",
          "height": 34
        }
      },
      "source": [
        "# 3 temps d'arret :\n",
        "# definir une somme - tel que \n",
        "\n",
        "\n",
        "from fractions import Fraction\n",
        "\n",
        "k = 1\n",
        "n = 1\n",
        "\n",
        "def Hn(n):\n",
        "  Hn = (sum([k])*n) + Fraction(1,k)\n",
        "  return Hn\n",
        "\n",
        "\n",
        "#while Hn(n) > n:   \n",
        "#  n += 1\n",
        "#  alpha = Hn()\n",
        "\n",
        "print(Hn(2))\n",
        "\n",
        "\n",
        "# $Hn = \\sum{k = 1}^n \\frac{1}{k}$"
      ],
      "execution_count": null,
      "outputs": [
        {
          "output_type": "stream",
          "text": [
            "3\n"
          ],
          "name": "stdout"
        }
      ]
    },
    {
      "cell_type": "code",
      "metadata": {
        "id": "sb9nWMNdDG-Z",
        "outputId": "0d614130-ab21-48be-a784-4984af7adca1",
        "colab": {
          "base_uri": "https://localhost:8080/",
          "height": 85
        }
      },
      "source": [
        "\n",
        "# Correction\n",
        "\n",
        "n = 1\n",
        "a = int(input('Reel a :'))\n",
        "H = 0\n",
        "while H < a :\n",
        "  H = 0\n",
        "  for k in range (1,n) :\n",
        "    H += 1/k\n",
        "  n +=1\n",
        "print(n)\n",
        "\n",
        "# other version\n",
        "n = 1 \n",
        "a = int(input('Reel a :'))\n",
        "H = 0\n",
        "while H < a :\n",
        "  H += 1/n\n",
        "  n += 1\n",
        "print(n)"
      ],
      "execution_count": null,
      "outputs": [
        {
          "output_type": "stream",
          "text": [
            "Reel a :11\n",
            "33619\n",
            "Reel a :11\n",
            "33618\n"
          ],
          "name": "stdout"
        }
      ]
    },
    {
      "cell_type": "markdown",
      "metadata": {
        "id": "mEvHi08CDfHT"
      },
      "source": [
        ""
      ]
    },
    {
      "cell_type": "code",
      "metadata": {
        "id": "2MFdjm5sEby7",
        "outputId": "9d1bd036-9c4b-4dd2-8c6d-453125fec354",
        "colab": {
          "base_uri": "https://localhost:8080/",
          "height": 54
        }
      },
      "source": [
        "# 3.2 equation de pell fermat\n",
        "\n",
        "x = 0\n",
        "y = 0\n",
        "i = 1\n",
        "j = 1\n",
        "arrayValue = []\n",
        "\n",
        "for i in range(101):\n",
        "  for j in range(101):\n",
        "    if((i*i)- (2*(j*j)) == 1):\n",
        "      arrayValue.append([('x',i),('y',j)])\n",
        "\n",
        "print(arrayValue)\n"
      ],
      "execution_count": null,
      "outputs": [
        {
          "output_type": "stream",
          "text": [
            "[[('x', 1), ('y', 0)], [('x', 3), ('y', 2)], [('x', 17), ('y', 12)], [('x', 99), ('y', 70)]]\n"
          ],
          "name": "stdout"
        }
      ]
    },
    {
      "cell_type": "code",
      "metadata": {
        "id": "WRlz3zf8OdBT",
        "outputId": "60086740-ef4b-475a-9d7e-f3c6961fdff2",
        "colab": {
          "base_uri": "https://localhost:8080/",
          "height": 34
        }
      },
      "source": [
        "# 3.2 equation de pell fermat\n",
        "\n",
        "x = 0\n",
        "y = 0\n",
        "i = 1\n",
        "j = 1\n",
        "arrayValue = []\n",
        "\n",
        "while i <= 100 :\n",
        "  while j <= 100 :\n",
        "    if((i*i)- (2*(j*j)) == 1):      \n",
        "      arrayValue.append([('x',i),('y',j)])\n",
        "    j += 1\n",
        "  j = 0\n",
        "  i += 1\n",
        "\n",
        "print(arrayValue)\n"
      ],
      "execution_count": null,
      "outputs": [
        {
          "output_type": "stream",
          "text": [
            "[[('x', 3), ('y', 2)], [('x', 17), ('y', 12)], [('x', 99), ('y', 70)]]\n"
          ],
          "name": "stdout"
        }
      ]
    },
    {
      "cell_type": "code",
      "metadata": {
        "id": "9oMvpN-sSnXE",
        "outputId": "8d1805e2-564f-4106-aa36-40e4af749611",
        "colab": {
          "base_uri": "https://localhost:8080/",
          "height": 34
        }
      },
      "source": [
        "x = 1\n",
        "y = 1\n",
        "s= 100\n",
        "arrayValue = []\n",
        "\n",
        "for x in range(1,s):\n",
        "  for y in range(1,s):\n",
        "    if((x*x)- (2*(y*y)) == 1):      \n",
        "      arrayValue.append([('x',x),('y',y)])\n",
        "\n",
        "print(arrayValue)"
      ],
      "execution_count": null,
      "outputs": [
        {
          "output_type": "stream",
          "text": [
            "[[('x', 3), ('y', 2)], [('x', 17), ('y', 12)], [('x', 99), ('y', 70)]]\n"
          ],
          "name": "stdout"
        }
      ]
    },
    {
      "cell_type": "code",
      "metadata": {
        "id": "qo2eJFROWAx0",
        "outputId": "72ddd12d-c4db-40e9-b06f-30ae89832101",
        "colab": {
          "base_uri": "https://localhost:8080/",
          "height": 51
        }
      },
      "source": [
        "# ax2 +bx+c=0\n",
        "\n",
        "a = 1\n",
        "b = 1\n",
        "c = 1\n",
        "x = 1\n",
        "\n",
        "equation = (a*(x*x)) + (b*x) + c\n",
        "\n",
        "discrimant = (b*b) - (4*a*c)\n",
        "\n",
        "print(equation)\n",
        "print(discrimant)"
      ],
      "execution_count": null,
      "outputs": [
        {
          "output_type": "stream",
          "text": [
            "3\n",
            "-3\n"
          ],
          "name": "stdout"
        }
      ]
    },
    {
      "cell_type": "markdown",
      "metadata": {
        "id": "WcmkrWnlp_ON"
      },
      "source": [
        "variables a, b, c, x0, x1, x2, delta\n",
        "saisir a, b, c\n",
        "delta <- b2 - 4*a*c\n",
        "si delta > 0 alors\n",
        "  x1 <- (-b-racineCarre(delta))/2*a\n",
        "  x2 <- (-b-racineCarre(delta))/2*a\n",
        "  afficher \"x1 = \".x1.\" et x2 = \".x2\n",
        "sinon\n",
        "  si delta = 0 alors\n",
        "    x0 <- (-b)/2*a\n",
        "    afficher \"x0 = \".x0\n",
        "  sinon\n",
        "    afficher \"pas de recherche\"\n",
        "  fin si\n",
        "fin si"
      ]
    },
    {
      "cell_type": "code",
      "metadata": {
        "id": "rH-oxO-Lpae4",
        "outputId": "36745f26-4c1d-4e28-c6de-40bbfb5384f0",
        "colab": {
          "base_uri": "https://localhost:8080/",
          "height": 85
        }
      },
      "source": [
        "from math import *\n",
        "a = int(input('a ='))\n",
        "b = int(input('b ='))\n",
        "c = int(input('c ='))\n",
        "\n",
        "delta = (b**2)-4*a*c\n",
        "\n",
        "if delta > 0 :\n",
        "  x1 = (-(b)-sqrt(delta))/2*a\n",
        "  x2 = (-(b)-sqrt(delta))/2*a\n",
        "  print('x1 - ',x1,' et x2 = ',x2)\n",
        "else:\n",
        "  if delta == 0 :\n",
        "    x0 = (-(b))/(2*a)\n",
        "    print('x0 =',x0 )\n",
        "  else:\n",
        "    print('pas de racine')"
      ],
      "execution_count": null,
      "outputs": [
        {
          "output_type": "stream",
          "text": [
            "a =-3\n",
            "b =-4\n",
            "c =1\n",
            "x1 -  1.9372539331937721  et x2 =  1.9372539331937721\n"
          ],
          "name": "stdout"
        }
      ]
    },
    {
      "cell_type": "code",
      "metadata": {
        "id": "jZB34lgntltK"
      },
      "source": [
        "# 3.4 ( new version )\n",
        "\n",
        "from math import *\n",
        "\n",
        "a = int(input('a ='))\n",
        "b = int(input('b ='))\n",
        "c = int(input('c ='))\n",
        "\n",
        "delta = (b*b)-4*a*c\n",
        "\n",
        "def calculDelta(a,b,c):\n",
        "  return (b*b)-4*a*c\n",
        "\n",
        "if(calculDelta(a,b,c) > 0):\n",
        "  x1 = (-(b)-sqrt(delta))/2*a\n",
        "  x2 = (-(b)-sqrt(delta))/2*a\n",
        "  print('x1 - ',x1,' et x2 = ',x2)\n",
        "else :\n",
        "  if(calculDelta(a,b,c) == 0):\n",
        "    x0 = (-(b))/(2*a)\n",
        "    print('x0 =',x0 )\n",
        "  else:\n",
        "    print('Pas de racine')\n",
        "  "
      ],
      "execution_count": null,
      "outputs": []
    },
    {
      "cell_type": "markdown",
      "metadata": {
        "id": "d5ubGyebsqxD"
      },
      "source": [
        "az²+ bz + c = 0 avec a≠0"
      ]
    },
    {
      "cell_type": "code",
      "metadata": {
        "id": "D3pd4J-rquSk",
        "outputId": "50b27378-4a8c-4d64-dea1-5c4a922e9f03",
        "colab": {
          "base_uri": "https://localhost:8080/",
          "height": 85
        }
      },
      "source": [
        "# 3.4\n",
        "\n",
        "from math import *\n",
        "\n",
        "a = int(input('a ='))\n",
        "b = int(input('b ='))\n",
        "c = int(input('c ='))\n",
        "\n",
        "delta = (b*b)-4*a*c\n",
        "\n",
        "def calculDelta(a,b,c):\n",
        "  return (b*b)-4*a*c\n",
        "\n",
        "if(calculDelta(a,b,c) > 0):\n",
        "  x1 = (-b)-sqrt(delta)*i/2*a\n",
        "  x2 = (-b)+sqrt(delta)*i/2*a\n",
        "  print('x1 - ',x1,' et x2 = ',x2)\n",
        "else :\n",
        "  if(calculDelta(a,b,c) == 0):\n",
        "    x0 = (-(b))/(2*a)\n",
        "    print('x0 =',x0 )\n",
        "  else:\n",
        "    print('Pas de racine')\n",
        "  "
      ],
      "execution_count": null,
      "outputs": [
        {
          "output_type": "stream",
          "text": [
            "a =-3\n",
            "b =-4\n",
            "c =1\n",
            "x1 -  797.7253933193772  et x2 =  -789.7253933193772\n"
          ],
          "name": "stdout"
        }
      ]
    },
    {
      "cell_type": "code",
      "metadata": {
        "id": "4DSaIaMDvJQU",
        "outputId": "a24ae293-355f-4f29-b1ef-56721d6d020d",
        "colab": {
          "base_uri": "https://localhost:8080/",
          "height": 102
        }
      },
      "source": [
        "# 3.4 correction\n",
        "from math import *\n",
        "import cmath\n",
        "\n",
        "a = int(input('a ='))\n",
        "b = int(input('b ='))\n",
        "c = int(input('c ='))\n",
        "\n",
        "delta = (b*b)-4*a*c\n",
        "racineDelta = cmath.sqrt(delta)\n",
        "# print('delta =',delta )\n",
        "\n",
        "if delta > 0:\n",
        "  x1 = ((-b)-sqrt(delta))/2*a\n",
        "  x2 = ((-b)+sqrt(delta))/2*a\n",
        "  print('x1 - ',x1,' et x2 = ',x2)\n",
        "else :\n",
        "  if(delta == 0):\n",
        "    x0 = (-(b))/(2*a)\n",
        "    print('x0 =',x0 )\n",
        "  else:\n",
        "    x1 = (-(b)-racineDelta)/2*a\n",
        "    x2 = (-(b)+racineDelta)/2*a\n",
        "    print('x1 - ',x1,'i et x2 = ',x2,'i')\n",
        "  "
      ],
      "execution_count": null,
      "outputs": [
        {
          "output_type": "stream",
          "text": [
            "a =3\n",
            "b =2\n",
            "c =10\n",
            "delta = -116\n",
            "x1 -  (-3-16.15549442140351j) i et x2 =  (-3+16.15549442140351j) i\n"
          ],
          "name": "stdout"
        }
      ]
    },
    {
      "cell_type": "markdown",
      "metadata": {
        "id": "JT6FNeWDzlUf"
      },
      "source": [
        "n! = 1 x 2 x 3 x … x n"
      ]
    },
    {
      "cell_type": "code",
      "metadata": {
        "id": "98pLswlvywnh",
        "outputId": "ac8c6ff7-e63c-4543-ea53-024675ee37d4",
        "colab": {
          "base_uri": "https://localhost:8080/",
          "height": 51
        }
      },
      "source": [
        "# 3.5 Factorielle\n",
        "# Ecrire un algorithme qui demande un nombre de d́epart, et qui calcule sa factorielle. On rappel qu’on calcul factorielle n tel que : n! = 􏰁1in i = 1×2×3×...×(n−1)×n.\n",
        "\n",
        "a = int(input('saisir une valeur :'))\n",
        "factorielle = 1\n",
        "\n",
        "for eachInteger in range(1,a):\n",
        "  factorielle = factorielle * eachInteger\n",
        "\n",
        "print(factorielle)"
      ],
      "execution_count": null,
      "outputs": [
        {
          "output_type": "stream",
          "text": [
            "saisir une valeur :5\n",
            "24\n"
          ],
          "name": "stdout"
        }
      ]
    },
    {
      "cell_type": "code",
      "metadata": {
        "id": "s09xu89s1XPG",
        "outputId": "f02263fc-faad-43e6-ed2a-5e4e6cf901f7",
        "colab": {
          "base_uri": "https://localhost:8080/",
          "height": 34
        }
      },
      "source": [
        "#def factoriel(val):\n",
        "#  result=1\n",
        "\n",
        "\n",
        "def fact(n):\n",
        "  \"\"\"fact(n): calcule la factiorielle de n (entier >= 0)\"\"\"\n",
        "  if n<2:\n",
        "    return 1\n",
        "  else:\n",
        "    return n*fact(n-1)\n",
        "\n",
        "fact(-5)"
      ],
      "execution_count": null,
      "outputs": [
        {
          "output_type": "execute_result",
          "data": {
            "text/plain": [
              "1"
            ]
          },
          "metadata": {
            "tags": []
          },
          "execution_count": 147
        }
      ]
    },
    {
      "cell_type": "code",
      "metadata": {
        "id": "YwMwLEz55Ppa",
        "outputId": "4471dd66-d14c-48bc-8029-af78e869e798",
        "colab": {
          "base_uri": "https://localhost:8080/",
          "height": 68
        }
      },
      "source": [
        "# Coefficients binomiaux\n",
        "\n",
        "n = int(input('valeur n: '))\n",
        "k = int(input('valeur k: '))\n",
        "\n",
        "def fact(n):\n",
        "  \"\"\"fact(n): calcule la factiorielle de n (entier >= 0)\"\"\"\n",
        "  if n<2:\n",
        "    return 1\n",
        "  else:\n",
        "    return n*fact(n-1)\n",
        "\n",
        "coeff = (fact(n) / (fact(k)*((fact(n-k)))))\n",
        "\n",
        "print(coeff)"
      ],
      "execution_count": null,
      "outputs": [
        {
          "output_type": "stream",
          "text": [
            "valeur n: 10\n",
            "valeur k: 5\n",
            "252.0\n"
          ],
          "name": "stdout"
        }
      ]
    },
    {
      "cell_type": "code",
      "metadata": {
        "id": "fdV2l-f2Aw15",
        "outputId": "19970d66-3513-4e0c-9d55-4eb7dfd50cf7",
        "colab": {
          "base_uri": "https://localhost:8080/",
          "height": 85
        }
      },
      "source": [
        "from math import factorial\n",
        "import scipy.special\n",
        "\n",
        "print(scipy.special.binom(10,5))\n",
        "\n",
        "n = int(input())\n",
        "k = int(input())\n",
        "\n",
        "A = factorial(n) / (factorial(k) * factorial(n - k))\n",
        "\n",
        "print(A)"
      ],
      "execution_count": null,
      "outputs": [
        {
          "output_type": "stream",
          "text": [
            "252.0\n",
            "10\n",
            "5\n",
            "252.0\n"
          ],
          "name": "stdout"
        }
      ]
    },
    {
      "cell_type": "code",
      "metadata": {
        "id": "pP_0ogxXA0mh"
      },
      "source": [
        "i"
      ],
      "execution_count": null,
      "outputs": []
    },
    {
      "cell_type": "code",
      "metadata": {
        "id": "b0bE6xUF-PZ1",
        "outputId": "7821e7a2-8428-4e4f-f851-ddab6ac05f42",
        "colab": {
          "base_uri": "https://localhost:8080/",
          "height": 187
        }
      },
      "source": [
        "# saisie de matrice\n",
        "\n",
        "import numpy as np\n",
        "\n",
        "matrixArr = []\n",
        "matrixCol = int(input('Nombre de colonnes :'))\n",
        "matrixLines = int(input('Nombre de lignes :'))\n",
        "values = 0\n",
        "\n",
        "# entries possibles\n",
        "values = matrixCol * matrixLines\n",
        "\n",
        "# for value in values\n",
        "for v in range(1, values + 1):\n",
        "  # get the user value defined\n",
        "  getVal = int(input('Saisissez la valeur : {}'.format(v)))\n",
        "  # append the value to the matrixArr\n",
        "  matrixArr = np.append(matrixArr, getVal)\n",
        "  \n",
        "\n",
        "# create the matrix\n",
        "B = matrixArr.reshape(matrixCol, matrixLines)\n",
        "\n",
        "print(B)"
      ],
      "execution_count": null,
      "outputs": [
        {
          "output_type": "stream",
          "text": [
            "Nombre de colonnes :2\n",
            "Nombre de lignes :3\n",
            "Saisissez la valeur 11\n",
            "Saisissez la valeur 223\n",
            "Saisissez la valeur 323232\n",
            "Saisissez la valeur 49\n",
            "Saisissez la valeur 5121\n",
            "Saisissez la valeur 6998\n",
            "[[1.0000e+00 2.3000e+01 2.3232e+04]\n",
            " [9.0000e+00 1.2100e+02 9.9800e+02]]\n"
          ],
          "name": "stdout"
        }
      ]
    },
    {
      "cell_type": "code",
      "metadata": {
        "id": "DaiPgqlTLZC3"
      },
      "source": [
        "# correction\n",
        "import numpy as np\n",
        "\n",
        "n = int(input('n ='))\n",
        "p = int(input('p ='))\n",
        "\n",
        "taille = int(input('Entrer la taille de la liste'))\n",
        "tableau = [0]*taille\n",
        "\n",
        "for i in range(taille):\n",
        "  tableau[i] = int(input('Entrer une valeur'))\n",
        "\n",
        "print(tableau)\n",
        "m = np.array(tableau)\n",
        "m = m.reshape(n,p)\n",
        "print(m)"
      ],
      "execution_count": null,
      "outputs": []
    },
    {
      "cell_type": "code",
      "metadata": {
        "id": "3oEz-TPqCoUm"
      },
      "source": [
        "m=int(input(\"col\")) # nombre de colonnes\n",
        "p=int(input(\"lignes\")) # nombre de lignes\n",
        "\n",
        "for i in range(m):\n",
        "    # parcourir les colonnes de B\n",
        "    for j in range(p):\n",
        "        # parcourir les lignes de B\n",
        "        C[i][j] = input(\"valeur:\")\n",
        "\n",
        "print (C)"
      ],
      "execution_count": null,
      "outputs": []
    },
    {
      "cell_type": "code",
      "metadata": {
        "id": "cE7NM7coKv2W",
        "outputId": "fa254ba4-36f2-4f36-dd1b-9fbe5535f8d2",
        "colab": {
          "base_uri": "https://localhost:8080/",
          "height": 187
        }
      },
      "source": [
        "# multiplication matricielle\n",
        "\n",
        "import numpy as np\n",
        "\n",
        "cols = int(input('Nombre des colonnes :'))\n",
        "lines = int(input('Nombre des lignes :'))\n",
        "\n",
        "values = cols * lines\n",
        "valuesA = []\n",
        "valuesB = []\n",
        "\n",
        "for i in range(1,values + 1):\n",
        "  #valuesArray.append(int(input('Entrer une valeur {}:'.format(i))))\n",
        "  valuesA.append(i)\n",
        "\n",
        "for j in range(1, values + 1):\n",
        "  #valuesArray.append(int(input('Entrer une valeur {}:'.format(i))))\n",
        "  valuesB.append(j*2)\n",
        "\n",
        "\n",
        "def createMatrix(array, cols, lines):  \n",
        "  a = np.array(array)\n",
        "  return np.reshape(a,(lines,cols))\n",
        "\n",
        "matrixA = createMatrix(valuesA, cols, lines)\n",
        "matrixB = createMatrix(valuesB, cols, lines)\n",
        "\n",
        "print(matrixA)\n",
        "print(matrixB)\n"
      ],
      "execution_count": null,
      "outputs": [
        {
          "output_type": "stream",
          "text": [
            "Nombre des colonnes :3\n",
            "Nombre des lignes :4\n",
            "[[ 1  2  3]\n",
            " [ 4  5  6]\n",
            " [ 7  8  9]\n",
            " [10 11 12]]\n",
            "[[ 2  4  6]\n",
            " [ 8 10 12]\n",
            " [14 16 18]\n",
            " [20 22 24]]\n"
          ],
          "name": "stdout"
        }
      ]
    },
    {
      "cell_type": "code",
      "metadata": {
        "id": "fMWTqJBkT6QK"
      },
      "source": [
        "# correction multiplication matricielle \n",
        "def produitMatriciel(A, B):\n",
        "    n = len(A)\n",
        "    p = len(A[0])\n",
        "    q = len(B[0])\n",
        "    return list([sum([A[i][k]*B[k][j] for k in range(p)]) for j in range(q)] for i in range(n))\n",
        "\n",
        "\n",
        "A = [[1,2], [3,4]]\n",
        "B = [[1,2], [3,4]]\n",
        "print (produitMatriciel(A,B))\n",
        "\n",
        "#avec numpy\n",
        "import numpy as np \n",
        "\n",
        "np.dot(A,B)"
      ],
      "execution_count": null,
      "outputs": []
    }
  ]
}