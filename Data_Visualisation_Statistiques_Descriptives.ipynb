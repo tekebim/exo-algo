{
  "nbformat": 4,
  "nbformat_minor": 0,
  "metadata": {
    "colab": {
      "name": "Data_Visualisation_Statistiques_Descriptives.ipynb",
      "provenance": [],
      "collapsed_sections": [],
      "authorship_tag": "ABX9TyOHtf2vysAMAbicJzmRT8U2",
      "include_colab_link": true
    },
    "kernelspec": {
      "name": "python3",
      "display_name": "Python 3"
    }
  },
  "cells": [
    {
      "cell_type": "markdown",
      "metadata": {
        "id": "view-in-github",
        "colab_type": "text"
      },
      "source": [
        "<a href=\"https://colab.research.google.com/github/tekebim/exo-algo/blob/master/Data_Visualisation_Statistiques_Descriptives.ipynb\" target=\"_parent\"><img src=\"https://colab.research.google.com/assets/colab-badge.svg\" alt=\"Open In Colab\"/></a>"
      ]
    },
    {
      "cell_type": "code",
      "metadata": {
        "id": "L5ORpgjr83wI"
      },
      "source": [
        ""
      ],
      "execution_count": null,
      "outputs": []
    },
    {
      "cell_type": "markdown",
      "metadata": {
        "id": "zP8if_uo9JLF"
      },
      "source": [
        "**Visualisation d’un nuage de points et exploration des variables**\n",
        "\n",
        "Pour cette partie, nous allons utiliser le dataset suivante : house_pricing.csv que vous pouvez trouver dans le dossier Data Sources. Nous allons tenter de comprendre un peu mieux ce dataset par la visualisation\n",
        "\n",
        "\n",
        "1) Importez les librairies qu’il nous faut (pandas, seaborn, matplotlib, numpy)\n",
        "\n",
        "2) Donnez la liste des variables présentes dans ce dataset ainsi que leur nature (sont elles\n",
        "qualitatives, quantitatives, discrète etc...) et leur type (float, int, str etc...)\n",
        "\n",
        "3) En créant un nuage de points, regardez comment se comporte la colonne LotArea par\n",
        "rapport au SalesPrices\n",
        "\n",
        "4) Affinez votre visualisation en ne gardant uniquement les maisons qui ont un LotArea\n",
        "inférieur à 20 000 pieds carrés et un prix inférieur à 500 000$\n",
        "\n",
        "5) En créant un nuage de points, regardez la relation entre le LotFrontage et le LotArea\n",
        "\n",
        "6) De la même manière, affinez votre visualisation en ne gardant uniquement les maisons qui\n",
        "ont un LotFrontage inférieur à 200 pieds carrés et un LotArea inférieur à 100000 pieds carré"
      ]
    },
    {
      "cell_type": "code",
      "metadata": {
        "id": "OvwBoiHV9MOW",
        "outputId": "555f6c66-1632-4fed-e1cf-16d57ae786b5",
        "colab": {
          "base_uri": "https://localhost:8080/",
          "height": 255
        }
      },
      "source": [
        "# import libraires\n",
        "import pandas as pd\n",
        "import numpy as np \n",
        "import seaborn as sns\n",
        "import matplotlib.pyplot as plt\n",
        "\n",
        "# import google drive\n",
        "from google.colab import drive\n",
        "drive.mount('/content/gdrive', force_remount=True)\n",
        "root_path = 'gdrive/My Drive/Colab Notebooks'\n",
        "data = pd.read_csv(root_path+'/data/sales_predictions.csv', sep=',')\n",
        "\n",
        "# data.head()\n",
        "# 2/ list all informations from data file (name, type)\n",
        "data.info()\n",
        "\n"
      ],
      "execution_count": 17,
      "outputs": [
        {
          "output_type": "stream",
          "text": [
            "Mounted at /content/gdrive\n",
            "<class 'pandas.core.frame.DataFrame'>\n",
            "RangeIndex: 2935849 entries, 0 to 2935848\n",
            "Data columns (total 6 columns):\n",
            " #   Column          Dtype  \n",
            "---  ------          -----  \n",
            " 0   date            object \n",
            " 1   date_block_num  int64  \n",
            " 2   shop_id         int64  \n",
            " 3   item_id         int64  \n",
            " 4   item_price      float64\n",
            " 5   item_cnt_day    float64\n",
            "dtypes: float64(2), int64(3), object(1)\n",
            "memory usage: 134.4+ MB\n"
          ],
          "name": "stdout"
        }
      ]
    }
  ]
}