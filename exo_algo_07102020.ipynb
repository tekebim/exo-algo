{
  "nbformat": 4,
  "nbformat_minor": 0,
  "metadata": {
    "colab": {
      "name": "exo-algo-07102020.ipynb",
      "provenance": [],
      "collapsed_sections": [],
      "authorship_tag": "ABX9TyP0ltHhvDEim1N2PVg1d4Bh"
    },
    "kernelspec": {
      "name": "python3",
      "display_name": "Python 3"
    }
  },
  "cells": [
    {
      "cell_type": "code",
      "metadata": {
        "id": "6vY3YwnQSS0S",
        "outputId": "81515400-af66-477f-925d-e3982fdc90b8",
        "colab": {
          "base_uri": "https://localhost:8080/"
        }
      },
      "source": [
        "# 1.1 Vous avez deux variables, A et B et vous souhaitez inverser le contenu \n",
        "\n",
        "# init variables\n",
        "a = 1\n",
        "b = 2\n",
        "# using variable c\n",
        "c = a;\n",
        "# make the switch\n",
        "a = b;\n",
        "b = c;\n",
        "# display values\n",
        "print (a,b)"
      ],
      "execution_count": 4,
      "outputs": [
        {
          "output_type": "stream",
          "text": [
            "1 2\n",
            "2 1\n"
          ],
          "name": "stdout"
        }
      ]
    }
  ]
}