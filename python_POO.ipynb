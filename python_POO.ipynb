{
  "nbformat": 4,
  "nbformat_minor": 0,
  "metadata": {
    "colab": {
      "name": "python_POO.ipynb",
      "provenance": [],
      "collapsed_sections": [],
      "authorship_tag": "ABX9TyN2Z8nnpbYUosp7PdGJyDey",
      "include_colab_link": true
    },
    "kernelspec": {
      "name": "python3",
      "display_name": "Python 3"
    }
  },
  "cells": [
    {
      "cell_type": "markdown",
      "metadata": {
        "id": "view-in-github",
        "colab_type": "text"
      },
      "source": [
        "<a href=\"https://colab.research.google.com/github/tekebim/exo-algo/blob/master/python_POO.ipynb\" target=\"_parent\"><img src=\"https://colab.research.google.com/assets/colab-badge.svg\" alt=\"Open In Colab\"/></a>"
      ]
    },
    {
      "cell_type": "code",
      "metadata": {
        "id": "o0QTL6rnevr5",
        "outputId": "f0cee861-2b33-4c91-fb85-c4b0148b4b78",
        "colab": {
          "base_uri": "https://localhost:8080/",
          "height": 68
        }
      },
      "source": [
        "class Voiture :\n",
        "\n",
        "\troues = 4\n",
        "\tmoteur = 1\n",
        "\t\n",
        "\tdef __init__(self):\n",
        "\t\tself.nom = \"A déterminer\"\n",
        "\n",
        "\tdef allumer(self):\n",
        "\t\tprint('la voiture démarre')\n",
        "\n",
        "class VoitureSport(Voiture):\n",
        "\n",
        "\tdef __init__(self):\n",
        "\t\tself.nom = \"Ferrari\"\n",
        "\n",
        "\tdef allumer(self):\n",
        "\t\tVoiture.allumer(self) #super() en Java : appel la fonction du parent\n",
        "\t\tprint('La voiture de sport démarre')\n",
        "\n",
        "ma_voiture_sport = VoitureSport()\n",
        "print (ma_voiture_sport.nom)\n",
        "ma_voiture_sport.allumer()"
      ],
      "execution_count": 3,
      "outputs": [
        {
          "output_type": "stream",
          "text": [
            "Ferrari\n",
            "la voiture démarre\n",
            "La voiture de sport démarre\n"
          ],
          "name": "stdout"
        }
      ]
    },
    {
      "cell_type": "code",
      "metadata": {
        "id": "DFiwlr4GgDEL",
        "outputId": "cf742442-0ee1-4832-fbf0-5869e3dd8613",
        "colab": {
          "base_uri": "https://localhost:8080/",
          "height": 68
        }
      },
      "source": [
        "# Exercices\n",
        "# Le compte bancaire\n",
        "\n",
        "class CompteBancaire :\n",
        "  def __init__(self, name = \"Dupont\", balance = 1000) :\n",
        "    self.name = name\n",
        "    self.balance = balance\n",
        "\n",
        "  # deposit operation on account\n",
        "  def deposit(self, value) :    \n",
        "    self.balance = self.balance + value\n",
        "  \n",
        "  # withdrawal operation on account\n",
        "  def withdrawal(self, value) :    \n",
        "    self.balance = self.balance - value\n",
        "  \n",
        "  # display the account's balance value\n",
        "  def showBalance(self) :\n",
        "    print('Le solde du compte bancaire est de',self.balance,'euros')\n",
        "\n",
        "# default account\n",
        "compteDefault = CompteBancaire()\n",
        "# display the account balance\n",
        "compteDefault.showBalance()\n",
        "\n",
        "# init first account  \n",
        "compte1 = CompteBancaire('Henry', 1900)\n",
        "# make operation of account\n",
        "compte1.deposit(300)\n",
        "compte1.withdrawal(100)\n",
        "# display the account balance\n",
        "compte1.showBalance()\n",
        "\n",
        "# init second account  \n",
        "compte2nd = CompteBancaire('Samantha', 100)\n",
        "# make operation of account\n",
        "compte2nd.deposit(100)\n",
        "compte2nd.withdrawal(300)\n",
        "# display the account balance\n",
        "compte2nd.showBalance()"
      ],
      "execution_count": 39,
      "outputs": [
        {
          "output_type": "stream",
          "text": [
            "Le solde du compte bancaire est de 1000 euros\n",
            "Le solde du compte bancaire est de 2100 euros\n",
            "Le solde du compte bancaire est de -100 euros\n"
          ],
          "name": "stdout"
        }
      ]
    },
    {
      "cell_type": "code",
      "metadata": {
        "id": "YS-G7UJLl3L0",
        "outputId": "a2b1828a-ece6-40e6-f470-26800692142e",
        "colab": {
          "base_uri": "https://localhost:8080/",
          "height": 51
        }
      },
      "source": [
        "# La surcharge d'operateur\n",
        "\n",
        "class Point :\n",
        "  def __init__(self, x, y, z = None):\n",
        "    self.coord_x = float(x)\n",
        "    self.coord_y = float(y)\n",
        "    # self.coord_y = float(z)\n",
        "    # if arg z defined\n",
        "    if z:\n",
        "      self.coord_z = float(z)\n",
        "\n",
        "      \n",
        "  def ToString(self) :\n",
        "    # check if Point has coordinate Z\n",
        "    if hasattr(self, \"coord_z\") :\n",
        "      print('P',(self.coord_x, self.coord_y, self.coord_z));\n",
        "    else :\n",
        "      print('P',(self.coord_x, self.coord_y));  \n",
        "\n",
        "  def ToStringBis(self) :\n",
        "    if self.coord_z == None : print(\"P(%.2f , %.2f)\" % (self.coord_x,self.coord_y)) # si z n'est pas défini\n",
        "    else : print(\"P(%.2f , %.2f , %.2f)\" % (self.coord_x,self.coord_y,self.coord_z)) # si z est défini    \n",
        "  \n",
        "# show the first point\n",
        "P1 = Point(2,3)\n",
        "P1.ToString()\n",
        "# P1.ToStringBis()\n",
        "\n",
        "# show the second point\n",
        "P2 = Point(1,-5,6)\n",
        "P2.ToString()"
      ],
      "execution_count": 204,
      "outputs": [
        {
          "output_type": "stream",
          "text": [
            "P (2.0, 3.0)\n",
            "P (1.0, -5.0, 6.0)\n"
          ],
          "name": "stdout"
        }
      ]
    },
    {
      "cell_type": "code",
      "metadata": {
        "id": "tWYoHaa2qLrk",
        "outputId": "b5724367-38ad-41d6-a99c-71c70d1b4b48",
        "colab": {
          "base_uri": "https://localhost:8080/",
          "height": 102
        }
      },
      "source": [
        "# L'héritage simple\n",
        "\n",
        "# define class Birthday\n",
        "class Birthday :\n",
        "  def __init__(self, day, month, year):\n",
        "    self.day = day\n",
        "    self.month = month\n",
        "    self.year = year\n",
        "\n",
        "  def ToString(self):\n",
        "    # return \"%02d / %02d / %d\" %(self.jour,self.mois,self.annee)\n",
        "    print(\"Date de naissance :\",str(self.day),\"/\", str(self.month),\"/\", str(self.year))\n",
        "  \n",
        "\n",
        "# define class Person\n",
        "class Person :  \n",
        "  def __init__(self, lastname, firstname, birthday) :\n",
        "    self.lastname = lastname\n",
        "    self.firstname = firstname\n",
        "    self.birthday = birthday\n",
        "  \n",
        "  def displayInfo(self) :\n",
        "    print(\"Nom :\",self.lastname)\n",
        "    print(\"Prénom :\",self.firstname)\n",
        "    self.birthday.ToString()\n",
        "\n",
        "\n",
        "# define class Employee : heritage from Person\n",
        "class Employee(Person) :\n",
        "  def __init__(self, lastname, firstname, birdthday, salary) :\n",
        "    Person.__init__(self, lastname, firstname, birdthday)\n",
        "    self.salary = salary\n",
        "\n",
        "  def displayInfo(self) :\n",
        "    Person.displayInfo(self)\n",
        "    print('Salaire :',self.salary,'€')\n",
        "\n",
        "\n",
        "# define class Chef : heritage from Employee\n",
        "class Chef(Employee) :\n",
        "  def __init__(self, lastname, firstname, birdthday, salary, service):\n",
        "    Employee.__init__(self, lastname, firstname, birdthday, salary)\n",
        "    self.service = service\n",
        "\n",
        "  def displayInfo(self) :\n",
        "    Employee.displayInfo(self)\n",
        "    print('Service :',self.service)\n",
        "\n",
        "\n",
        "# Create a new Person\n",
        "# P = Person(\"Doe\",\"Jhon\", Birthday(1,5,1989))\n",
        "# P.displayInfo()\n",
        "\n",
        "# Create a new employee\n",
        "# E = Employee(\"Doe\",\"Jhon\", Birthday(2,6,1989), 1221.121)\n",
        "# E.displayInfo()\n",
        "\n",
        "# Create a new chef\n",
        "Ch = Chef(\"Doe\",\"Jhon\", Birthday(2,6,1989), 1221.121, \"IT Service\")\n",
        "Ch.displayInfo()"
      ],
      "execution_count": 150,
      "outputs": [
        {
          "output_type": "stream",
          "text": [
            "Nom : Doe\n",
            "Prénom : Jhon\n",
            "Date de naissance : 2 / 6 / 1989\n",
            "Salaire : 1221.121 €\n",
            "Service : IT Service\n"
          ],
          "name": "stdout"
        }
      ]
    },
    {
      "cell_type": "code",
      "metadata": {
        "id": "zsxSS9TyLLQ_"
      },
      "source": [
        "# Correction\n",
        "class DateNaissance():\n",
        "  def __init__(self, jour, mois, année):\n",
        "    self.jour = jour\n",
        "    self.mois = mois\n",
        "    self.année = année\n",
        "    if(jour < 10):\n",
        "      nouveau_jour = str(jour)\n",
        "      self.jour =  nouveau_jour.zfill(2)\n",
        "    if(mois < 10):\n",
        "      nouveau_mois = str(mois)\n",
        "      self.mois =  nouveau_mois.zfill(2)\n",
        "  def afficher(self):\n",
        "    date = str(self.jour)+\"/\"+str(self.mois)+\"/\"+str(self.année)\n",
        "    print(\"Date de naissance : \" + date)\n",
        "    #return \"%02d / %02d / %d\" %(self.jour,self.mois,self.annee)\n",
        "\n",
        "class Personne():\n",
        "  def __init__(self, nom,prenom,date_naissance):\n",
        "    self.nom = nom\n",
        "    self.prenom = prenom\n",
        "    self.date_naissance = date_naissance\n",
        "\n",
        "  def afficher(self):\n",
        "    print(\"Nom: \" +str(self.nom))\n",
        "    print(\"Prénom: \" +str(self.prenom))\n",
        "    self.date_naissance.afficher()\n",
        "\n",
        "class Employe(Personne):\n",
        "  def __init__(self,nom,prenom, date_naissance,salaire):\n",
        "    Personne.__init__(self,nom,prenom,date_naissance)\n",
        "    self.salaire = salaire\n",
        "\n",
        "  def afficher(self):\n",
        "    Personne.afficher(self)\n",
        "    print('Salaire: ', self.salaire)\n",
        "\n",
        "class Chef(Employe):\n",
        "  def __init__(self,nom,prenom, date_naissance,salaire,service):\n",
        "    Employe.__init__(self,nom,prenom,date_naissance,salaire)\n",
        "    self.service = service\n",
        "\n",
        "  def afficher(self):\n",
        "    Employe.afficher(self)\n",
        "    print('Service: ', self.service)\n",
        "\n",
        "test2 = Chef(\"Dupont\",\"Marc\",DateNaissance(1,9,1999),2500,\"Sécurité\")\n",
        "test2.afficher()"
      ],
      "execution_count": null,
      "outputs": []
    },
    {
      "cell_type": "code",
      "metadata": {
        "id": "F0-kzPMe7Oby",
        "outputId": "f477528e-54db-41fd-ba50-c270d011a094",
        "colab": {
          "base_uri": "https://localhost:8080/",
          "height": 238
        }
      },
      "source": [
        "# 3.2\n",
        "# Calculer le prix du timbre\n",
        "\n",
        "# define LetterBox\n",
        "class LetterBox:\n",
        "  def __init__(self, type) :\n",
        "    self.type = type\n",
        "\n",
        "# define class which shared commons attributes\n",
        "class SharedAttr():\n",
        "  def __init__(self, addressTo, addressFrom, weight, expeditionMode) :        \n",
        "    self.addressTo = addressTo\n",
        "    self.addressFrom = addressFrom\n",
        "    self.weight = weight\n",
        "    self.expeditionMode = expeditionMode    \n",
        "\n",
        "  def ToString(self):\n",
        "    print('Adresse destination:', self.addressTo)\n",
        "    print('Adresse expédition:', self.addressFrom)\n",
        "    print('Poids: %.2f'%(self.weight),'grammes')\n",
        "    print('Mode:', self.expeditionMode)\n",
        "\n",
        "\n",
        "# define Letter type\n",
        "class Letter(SharedAttr):\n",
        "  def __init__(self, addressTo, addressFrom, weight, expeditionMode, format) :\n",
        "    SharedAttr.__init__(self, addressTo, addressFrom, weight, expeditionMode)\n",
        "    self.format = format\n",
        "    self.priceStantardA4 = 2.50\n",
        "    self.priceStantardA3 = 3.50\n",
        "\n",
        "  # method to define the price of stamp\n",
        "  def calcStamp(self):\n",
        "    # test format\n",
        "    if self.format == 'A4':\n",
        "      priceStandard = self.priceStantardA4\n",
        "    else :\n",
        "      priceStandard = self.priceStantardA3\n",
        "      \n",
        "    # test expedition  \n",
        "    if self.expeditionMode == 'express' :\n",
        "      priceStandard = priceStandard * 2\n",
        "\n",
        "    total = priceStandard + 1.0 * (self.weight * 0.001)\n",
        "    return total\n",
        "\n",
        "  # method display information\n",
        "  def ToString(self): \n",
        "    SharedAttr.ToString(self)   \n",
        "    print('Format:', self.format)\n",
        "    print('Prix du timbre :', self.calcStamp())\n",
        "\n",
        "\n",
        "\n",
        "# define Box type\n",
        "class Box(SharedAttr):\n",
        "  def __init__(self, addressTo, addressFrom, weight, expeditionMode, volume) :  \n",
        "    SharedAttr.__init__(self, addressTo, addressFrom, weight, expeditionMode)\n",
        "    self.volume = volume\n",
        "  \n",
        "  # method to define the price of stamp\n",
        "  def calcStamp(self):\n",
        "    total = 0.25 * self.volume * (self.weight * 0.001)\n",
        "    if self.expeditionMode == 'express' :\n",
        "      return total*2\n",
        "    else:\n",
        "      return total\n",
        "  \n",
        "  # method display information\n",
        "  def ToString(self): \n",
        "    SharedAttr.ToString(self)   \n",
        "    print('Volume:', self.volume,'litres')\n",
        "    print('Prix du timbre :', self.calcStamp())\n",
        "\n",
        "\n",
        "# define letter\n",
        "L1 = Letter(\"Paris\", \"Marseille\", 80, \"normal\", \"A4\" )\n",
        "L1.ToString()\n",
        "\n",
        "print('------------')\n",
        "\n",
        "# define box\n",
        "B1 = Box(\"Lyon\", \"Brest\", 3500, \"express\", 2.25 )\n",
        "B1.ToString()\n",
        "\n",
        "# T = SharedAttr(\"Paris\", \"Marseille\", 80, \"normal\")\n",
        "# T.ToString()"
      ],
      "execution_count": 203,
      "outputs": [
        {
          "output_type": "stream",
          "text": [
            "Adresse destination: Paris\n",
            "Adresse expédition: Marseille\n",
            "Poids: 80.00 grammes\n",
            "Mode: normal\n",
            "Format: A4\n",
            "Prix du timbre : 2.58\n",
            "------------\n",
            "Adresse destination: Lyon\n",
            "Adresse expédition: Brest\n",
            "Poids: 3500.00 grammes\n",
            "Mode: express\n",
            "Volume: 2.25 litres\n",
            "Prix du timbre : 3.9375\n"
          ],
          "name": "stdout"
        }
      ]
    }
  ]
}