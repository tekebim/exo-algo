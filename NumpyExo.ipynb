{
  "nbformat": 4,
  "nbformat_minor": 0,
  "metadata": {
    "kernelspec": {
      "display_name": "Python 3",
      "language": "python",
      "name": "python3"
    },
    "language_info": {
      "codemirror_mode": {
        "name": "ipython",
        "version": 3
      },
      "file_extension": ".py",
      "mimetype": "text/x-python",
      "name": "python",
      "nbconvert_exporter": "python",
      "pygments_lexer": "ipython3",
      "version": "3.8.3"
    },
    "colab": {
      "name": "NumpyExo.ipynb",
      "provenance": [],
      "include_colab_link": true
    }
  },
  "cells": [
    {
      "cell_type": "markdown",
      "metadata": {
        "id": "view-in-github",
        "colab_type": "text"
      },
      "source": [
        "<a href=\"https://colab.research.google.com/github/tekebim/exo-algo/blob/master/NumpyExo.ipynb\" target=\"_parent\"><img src=\"https://colab.research.google.com/assets/colab-badge.svg\" alt=\"Open In Colab\"/></a>"
      ]
    },
    {
      "cell_type": "markdown",
      "metadata": {
        "id": "LUFKvBE5rjQm"
      },
      "source": [
        "# Numpy exercices pratiques\n",
        "Ce notebook à pour objectif de vous faire pratiquer numpy dans toute sa généralité. \n",
        "Vous avez donc une liste de questions à faire ! Il ne faut pas hésiter à faire des recherches sur google ainsi que voir la [documentation officielle](https://docs.scipy.org/doc/numpy-1.13.0/reference/). "
      ]
    },
    {
      "cell_type": "markdown",
      "metadata": {
        "id": "tr0BMD4HrjQo"
      },
      "source": [
        "#### Q1 : Importer le package numpy "
      ]
    },
    {
      "cell_type": "code",
      "metadata": {
        "id": "z6CiXykLrjQp"
      },
      "source": [
        "import numpy as np"
      ],
      "execution_count": 3,
      "outputs": []
    },
    {
      "cell_type": "markdown",
      "metadata": {
        "id": "hR7MorVkrjQt"
      },
      "source": [
        "#### Q2 : Afficher la version de numpy et la configuration "
      ]
    },
    {
      "cell_type": "code",
      "metadata": {
        "id": "9GqZiRDRrjQu",
        "outputId": "2f3ce51f-fb6b-40c2-d324-c288ecf67c6a",
        "colab": {
          "base_uri": "https://localhost:8080/",
          "height": 35
        }
      },
      "source": [
        "np.version.version"
      ],
      "execution_count": 5,
      "outputs": [
        {
          "output_type": "execute_result",
          "data": {
            "application/vnd.google.colaboratory.intrinsic+json": {
              "type": "string"
            },
            "text/plain": [
              "'1.18.5'"
            ]
          },
          "metadata": {
            "tags": []
          },
          "execution_count": 5
        }
      ]
    },
    {
      "cell_type": "markdown",
      "metadata": {
        "id": "MbKHKssgrjQx"
      },
      "source": [
        "#### Q3 : Créer un vecteur nul de taille 10"
      ]
    },
    {
      "cell_type": "code",
      "metadata": {
        "id": "uc3TBcearjQx",
        "outputId": "c2bd92a6-67b5-4ff4-ecf0-40df16de5a4a",
        "colab": {
          "base_uri": "https://localhost:8080/",
          "height": 34
        }
      },
      "source": [
        "x = np.zeros(10)\n",
        "print(x)"
      ],
      "execution_count": 14,
      "outputs": [
        {
          "output_type": "stream",
          "text": [
            "[0. 0. 0. 0. 0. 0. 0. 0. 0. 0.]\n"
          ],
          "name": "stdout"
        }
      ]
    },
    {
      "cell_type": "markdown",
      "metadata": {
        "id": "6f6UuY1ZrjQ0"
      },
      "source": [
        "#### Q4 : Créer un vecteur null de taille 10 et affecter la valeur 1 à la 4ème place (index 4) du vecteur"
      ]
    },
    {
      "cell_type": "code",
      "metadata": {
        "id": "faC2qWd1rjQ0",
        "outputId": "b470a758-c438-475e-9f43-ec7dc1bcb92c",
        "colab": {
          "base_uri": "https://localhost:8080/",
          "height": 34
        }
      },
      "source": [
        "x = np.zeros(10)\n",
        "x[4] = 1\n",
        "print(x)"
      ],
      "execution_count": 15,
      "outputs": [
        {
          "output_type": "stream",
          "text": [
            "[0. 0. 0. 0. 1. 0. 0. 0. 0. 0.]\n"
          ],
          "name": "stdout"
        }
      ]
    },
    {
      "cell_type": "markdown",
      "metadata": {
        "id": "IXllTldfrjQ9"
      },
      "source": [
        "#### Q5 : Créer un vecteur Z de 40 valeurs allant de 10 à 50 "
      ]
    },
    {
      "cell_type": "code",
      "metadata": {
        "id": "PkSazsDwrjQ-",
        "outputId": "3fa3b87a-876b-487e-a3d8-5a3bc13dd463",
        "colab": {
          "base_uri": "https://localhost:8080/",
          "height": 51
        }
      },
      "source": [
        "z = np.random.randint(low = 10, high = 50, size = 40)\n",
        "print(z)"
      ],
      "execution_count": 20,
      "outputs": [
        {
          "output_type": "stream",
          "text": [
            "[47 12 22 42 31 35 42 20 32 20 15 37 17 23 42 30 33 43 33 31 19 31 40 45\n",
            " 31 31 42 47 14 40 21 29 11 29 41 49 27 36 41 31]\n"
          ],
          "name": "stdout"
        }
      ]
    },
    {
      "cell_type": "markdown",
      "metadata": {
        "id": "0fYde-oTrjRE"
      },
      "source": [
        "#### Q6 : Inverser Z (le premier élément devient donc le dernier)"
      ]
    },
    {
      "cell_type": "code",
      "metadata": {
        "id": "pZR43feCrjRF",
        "outputId": "f5500142-9fb9-4fe0-d534-3de286e94e9f",
        "colab": {
          "base_uri": "https://localhost:8080/",
          "height": 51
        }
      },
      "source": [
        "z = z[::-1]\n",
        "print(z)"
      ],
      "execution_count": 21,
      "outputs": [
        {
          "output_type": "stream",
          "text": [
            "[31 41 36 27 49 41 29 11 29 21 40 14 47 42 31 31 45 40 31 19 31 33 43 33\n",
            " 30 42 23 17 37 15 20 32 20 42 35 31 42 22 12 47]\n"
          ],
          "name": "stdout"
        }
      ]
    },
    {
      "cell_type": "markdown",
      "metadata": {
        "id": "11TCVf2WrjRR"
      },
      "source": [
        "#### Q7 : Créer une matrice 3x3 avec des valeurs comprise entre 0 et 8 "
      ]
    },
    {
      "cell_type": "code",
      "metadata": {
        "id": "sTLkFHIxrjRS",
        "outputId": "83e2d04e-e4df-42d0-b559-58c01f2ce191",
        "colab": {
          "base_uri": "https://localhost:8080/",
          "height": 68
        }
      },
      "source": [
        "m3x3 = np.random.randint(low = 0, high = 8, size = 9).reshape(3,3)\n",
        "print(m3x3)"
      ],
      "execution_count": 28,
      "outputs": [
        {
          "output_type": "stream",
          "text": [
            "[[5 5 3]\n",
            " [7 5 7]\n",
            " [4 6 1]]\n"
          ],
          "name": "stdout"
        }
      ]
    },
    {
      "cell_type": "markdown",
      "metadata": {
        "id": "OOPN3QP5rjRY"
      },
      "source": [
        "#### Q8 : Créer une matrice identié 3x3 "
      ]
    },
    {
      "cell_type": "code",
      "metadata": {
        "id": "Q3ithpEWrjRY",
        "outputId": "50a641e9-09f4-4cf3-e71a-bc034d8f5ec8",
        "colab": {
          "base_uri": "https://localhost:8080/",
          "height": 68
        }
      },
      "source": [
        "mdiag = np.zeros((3, 3), int)\n",
        "np.fill_diagonal(mdiag, 1)\n",
        "print(mdiag)"
      ],
      "execution_count": 40,
      "outputs": [
        {
          "output_type": "stream",
          "text": [
            "[[1 0 0]\n",
            " [0 1 0]\n",
            " [0 0 1]]\n"
          ],
          "name": "stdout"
        }
      ]
    },
    {
      "cell_type": "markdown",
      "metadata": {
        "id": "rsy259ePrjRc"
      },
      "source": [
        "#### Q9 : Créer une matrice 3x3x3 avec des valeurs random "
      ]
    },
    {
      "cell_type": "code",
      "metadata": {
        "id": "ibgA1PAZrjRd",
        "outputId": "055915b5-4f17-461a-e995-1a2c8fc35f76",
        "colab": {
          "base_uri": "https://localhost:8080/",
          "height": 204
        }
      },
      "source": [
        "m3x3x3rand = np.random.rand(3,3,3)\n",
        "print(m3x3x3rand)"
      ],
      "execution_count": 30,
      "outputs": [
        {
          "output_type": "stream",
          "text": [
            "[[[0.06458809 0.23732379 0.72007607]\n",
            "  [0.46740692 0.9635118  0.16015938]\n",
            "  [0.41355432 0.31835559 0.76899839]]\n",
            "\n",
            " [[0.86188193 0.1722254  0.90699368]\n",
            "  [0.87689307 0.52630585 0.50679221]\n",
            "  [0.94187749 0.39324641 0.8994743 ]]\n",
            "\n",
            " [[0.90566373 0.81181833 0.32834296]\n",
            "  [0.75160963 0.07276028 0.17813806]\n",
            "  [0.41082265 0.06736026 0.23736296]]]\n"
          ],
          "name": "stdout"
        }
      ]
    },
    {
      "cell_type": "markdown",
      "metadata": {
        "id": "ZxaHyfc5rjRh"
      },
      "source": [
        "#### Q10 : Créer une matrice 10x10 avec des valeurs random et afficher le minimum et maximum de cette matrice"
      ]
    },
    {
      "cell_type": "code",
      "metadata": {
        "id": "zq1PhSpirjRh",
        "outputId": "2df9433d-8a26-4f29-a2f0-838b2798fa24",
        "colab": {
          "base_uri": "https://localhost:8080/",
          "height": 391
        }
      },
      "source": [
        "m10x10rand = np.random.rand(10,10)\n",
        "m10x10min = np.min(m1010rand)\n",
        "m10x10max = np.max(m1010rand)\n",
        "\n",
        "print('minimum:',m10x10min)\n",
        "print('maximum',m10x10max)\n",
        "print(m10x10rand)"
      ],
      "execution_count": 31,
      "outputs": [
        {
          "output_type": "stream",
          "text": [
            "minimum: 0.006089822280276991\n",
            "maximum 0.9937491978944998\n",
            "[[0.36181927 0.78667539 0.08859476 0.17548342 0.77050052 0.6368447\n",
            "  0.19204925 0.63918341 0.92347303 0.3676513 ]\n",
            " [0.63827294 0.5746923  0.80912626 0.31403796 0.73310049 0.37497725\n",
            "  0.56126191 0.28185642 0.30129956 0.22854622]\n",
            " [0.63999638 0.73151322 0.43700071 0.72346177 0.44332386 0.73515665\n",
            "  0.17301864 0.70373959 0.09047979 0.88116557]\n",
            " [0.74659369 0.39065173 0.73009132 0.05610268 0.55254649 0.73142889\n",
            "  0.88328778 0.99348401 0.82667046 0.30797294]\n",
            " [0.59752168 0.8118939  0.34466921 0.73498144 0.91896958 0.78656492\n",
            "  0.67200914 0.82069557 0.33480318 0.45921382]\n",
            " [0.39096057 0.18576682 0.45490411 0.28296036 0.57517071 0.94002216\n",
            "  0.60641306 0.15487669 0.29099413 0.31975837]\n",
            " [0.79125281 0.59601533 0.7384016  0.81621998 0.88402527 0.82088983\n",
            "  0.5957766  0.73319004 0.04759002 0.05949939]\n",
            " [0.24303388 0.50772455 0.06242068 0.8392686  0.15849325 0.33563317\n",
            "  0.72152489 0.61753158 0.3769316  0.65821469]\n",
            " [0.29967148 0.51841143 0.73206696 0.8049564  0.56287601 0.74824503\n",
            "  0.63920602 0.12374899 0.96526887 0.61703018]\n",
            " [0.8661706  0.03200147 0.20319809 0.96577589 0.65646704 0.85804195\n",
            "  0.49344105 0.60971879 0.88240524 0.70888587]]\n"
          ],
          "name": "stdout"
        }
      ]
    },
    {
      "cell_type": "markdown",
      "metadata": {
        "id": "Vy03X4JNrjRn"
      },
      "source": [
        "#### Q11 : Créer une matrice 5x5 avec les valeurs 1,2,3,4 en dessous de la diagonale "
      ]
    },
    {
      "cell_type": "code",
      "metadata": {
        "id": "vC9J3RbCrjRn",
        "outputId": "89253a93-50c4-4ce0-fec3-30671d306aed",
        "colab": {
          "base_uri": "https://localhost:8080/",
          "height": 102
        }
      },
      "source": [
        "#m5x5 = np.random.rand(5,5)\n",
        "m5x5 = np.random.uniform(low = 1, high = 4, size = (5,5))\n",
        "print(m5x5)"
      ],
      "execution_count": 39,
      "outputs": [
        {
          "output_type": "stream",
          "text": [
            "[[2.17097949 2.79419392 1.41788446 2.36674229 3.95057796]\n",
            " [2.15212671 3.25830022 2.01980207 1.8628044  3.11279772]\n",
            " [1.97122269 1.9236785  3.51578785 3.72401185 3.48893236]\n",
            " [3.82675652 1.11812162 3.47981168 2.23519015 1.60803156]\n",
            " [1.15846888 1.94692575 1.23404009 1.41594085 2.22511386]]\n"
          ],
          "name": "stdout"
        }
      ]
    },
    {
      "cell_type": "markdown",
      "metadata": {
        "id": "ZmpuN6TZrjRr"
      },
      "source": [
        "#### Q12 : Créer une liste random de taille 5 et donner la somme de ses éléments  "
      ]
    },
    {
      "cell_type": "code",
      "metadata": {
        "id": "bbJj3Ik0rjRt"
      },
      "source": [
        ""
      ],
      "execution_count": null,
      "outputs": []
    },
    {
      "cell_type": "markdown",
      "metadata": {
        "id": "3OkpPJ1DrjRx"
      },
      "source": [
        "#### Q13 : Créer une liste random de taille 5 et donner la moyenne de ses éléments"
      ]
    },
    {
      "cell_type": "code",
      "metadata": {
        "id": "arOSKTBarjRx"
      },
      "source": [
        ""
      ],
      "execution_count": null,
      "outputs": []
    },
    {
      "cell_type": "markdown",
      "metadata": {
        "id": "dIlpq2g2rjR1"
      },
      "source": [
        "#### Q14 : En utilisant une fonction, donner la taille de la liste suivante :\n",
        "```python \n",
        "l = [x for x in range(11)]\n",
        "```"
      ]
    },
    {
      "cell_type": "code",
      "metadata": {
        "id": "WKlDAoUlrjR1"
      },
      "source": [
        ""
      ],
      "execution_count": null,
      "outputs": []
    },
    {
      "cell_type": "markdown",
      "metadata": {
        "id": "SnM9vXxbrjR5"
      },
      "source": [
        "#### Q15 : Créer un tableau de taille 10 avec des valeurs comprises entre 0 et 1 EXCLUS "
      ]
    },
    {
      "cell_type": "code",
      "metadata": {
        "id": "Ka_XYFHVrjR6"
      },
      "source": [
        ""
      ],
      "execution_count": null,
      "outputs": []
    },
    {
      "cell_type": "markdown",
      "metadata": {
        "id": "u_H1uIfCrjSH"
      },
      "source": [
        "#### Q16 : Soit deux tableau A et B de dimension 1 et de taille 5, créer A et B et afficher True si A et B sont égaux False sinon"
      ]
    },
    {
      "cell_type": "code",
      "metadata": {
        "id": "YxfwWhK9rjSH"
      },
      "source": [
        ""
      ],
      "execution_count": null,
      "outputs": []
    },
    {
      "cell_type": "markdown",
      "metadata": {
        "id": "LUy-u58HrjSJ"
      },
      "source": [
        "#### Q17 : Convertir un tableau de float32 de dimension 1 et de taille 10 en un tableau de meme taille et dimension mais de type int32"
      ]
    },
    {
      "cell_type": "code",
      "metadata": {
        "id": "1lASm0CzrjSK"
      },
      "source": [
        ""
      ],
      "execution_count": null,
      "outputs": []
    },
    {
      "cell_type": "markdown",
      "metadata": {
        "id": "XFPfbzfirjSM"
      },
      "source": [
        "#### Q18 : Normaliser une matrice random 5x5 \n",
        "La normalisation d'un nombre X consiste à lui retirer sa moyenne et a diviser le tout par son écart type "
      ]
    },
    {
      "cell_type": "code",
      "metadata": {
        "id": "6KnUHJC5rjSM"
      },
      "source": [
        ""
      ],
      "execution_count": null,
      "outputs": []
    },
    {
      "cell_type": "markdown",
      "metadata": {
        "id": "wlCly_W8rjSO"
      },
      "source": [
        "#### Q19 : Créer une matrice random `M` 2x2 et donner sa transposer \n",
        "L'opération de transposition dans une matrice consiste à échanger les lignes et le colonnes. "
      ]
    },
    {
      "cell_type": "code",
      "metadata": {
        "id": "A1OoZ4HnrjSO"
      },
      "source": [
        ""
      ],
      "execution_count": null,
      "outputs": []
    },
    {
      "cell_type": "markdown",
      "metadata": {
        "id": "TbxwXVOCrjSQ"
      },
      "source": [
        "#### Q20 : Écrire un petit script qui remplace un élément au hasard dans une matrice de dimension NxN"
      ]
    },
    {
      "cell_type": "code",
      "metadata": {
        "id": "vY8kH_1mrjSQ"
      },
      "source": [
        ""
      ],
      "execution_count": null,
      "outputs": []
    },
    {
      "cell_type": "markdown",
      "metadata": {
        "id": "e0ruUGzErjSS"
      },
      "source": [
        "#### Q21 : Considérons une matrice de dimension (5,5,3), écrire un script qui multiplie cette matrice par une matrice de dimension (5,5)"
      ]
    },
    {
      "cell_type": "code",
      "metadata": {
        "id": "jHOiVmdZrjSS"
      },
      "source": [
        ""
      ],
      "execution_count": null,
      "outputs": []
    }
  ]
}